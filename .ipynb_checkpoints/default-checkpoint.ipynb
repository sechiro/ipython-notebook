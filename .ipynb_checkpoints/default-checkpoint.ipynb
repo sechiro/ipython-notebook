{
 "metadata": {
  "name": "",
  "signature": "sha256:7f478e8448c419f66e7e725a9c1041ba142880f63ec28a65fa7381c92cebe325"
 },
 "nbformat": 3,
 "nbformat_minor": 0,
 "worksheets": []
}