{
 "metadata": {
  "name": "",
  "signature": "sha256:5543ee45500d4c7ae7a2d3744d9693836ba99919170598dfd1fb28e34f6daa24"
 },
 "nbformat": 3,
 "nbformat_minor": 0,
 "worksheets": [
  {
   "cells": [
    {
     "cell_type": "heading",
     "level": 2,
     "metadata": {},
     "source": [
      "\u8a08\u7b97\u5185\u5bb9\u672c\u4f53"
     ]
    },
    {
     "cell_type": "code",
     "collapsed": false,
     "input": [
      "import sys\n",
      "from datetime import datetime\n",
      "\n",
      "def calc_time_delta(start_time, end_time):\n",
      "    \"\"\" \u6642\u523b\u9593\u306e\u5dee\u3092\u8a08\u7b97\u3059\u308b\u6c4e\u7528\u95a2\u6570 \"\"\"\n",
      "    t_start_time = datetime.strptime(start_time, \"%Y-%m-%d %H:%M:%S\")\n",
      "    t_end_time = datetime.strptime(end_time, \"%Y-%m-%d %H:%M:%S\")\n",
      "\n",
      "    delta = t_end_time - t_start_time\n",
      "    duration = int(delta.total_seconds())\n",
      "    \n",
      "    return duration\n",
      "\n",
      "def calc_schatz_charge(start_time, end_time):\n",
      "    \"\"\" 30\u5206500\u5186\u306e\u5e2d\u6599\u3092\u8a08\u7b97\u3059\u308b\u30025\u5206\u7d4c\u904e\u4ee5\u964d\u306b\u6b21\u306e\u5e2d\u6599\u304c\u767a\u751f\u3059\u308b\u3068\u307f\u306a\u3059 \"\"\"\n",
      "    duration = calc_time_delta(start_time, end_time)\n",
      "    duration_minutes = duration / 60\n",
      "    charge_times = duration_minutes / 30\n",
      "    extra_minutes = duration_minutes % 30\n",
      "    \n",
      "    # 5\u5206\u7d4c\u904e\u5f8c\u304b\u3089\u6b21\u306e\u30c1\u30e3\u30fc\u30b8\u304c\u767a\u751f\u3002\u305f\u3060\u3057\u3001\u521d\u56de\u306b\u306f\u3059\u3050\u306b\u30c1\u30e3\u30fc\u30b8\u767a\u751f\u3002\n",
      "    if extra_minutes > 5 or charge_times == 0:\n",
      "        charge_times = charge_times + 1\n",
      "    \n",
      "    # \u30c1\u30e3\u30fc\u30b8\u6599\u304c\u30de\u30a4\u30ca\u30b9\u306e\u5834\u5408\u306f\u30a8\u30e9\u30fc\u3092\u51fa\u3059\n",
      "    if charge_times < 0:\n",
      "        sys.stderr.write('[Warn] end_time is earlier than start_time.\\n \\\n",
      "            start_time: %s end_time: %s\\n' % (start_time, end_time) )\n",
      "        \n",
      "    charge = charge_times * 500\n",
      "    return charge"
     ],
     "language": "python",
     "metadata": {},
     "outputs": [],
     "prompt_number": 26
    },
    {
     "cell_type": "code",
     "collapsed": false,
     "input": [
      "def calc_dishes_cost(tarif, order_list=[]):\n",
      "    \"\"\" \u30e1\u30cb\u30e5\u30fc\u6ce8\u6587\u5206\u306e\u8a08\u7b97 \"\"\"\n",
      "    total_cost = 0\n",
      "    for i in order_list:\n",
      "        cost = tarif.get(i,0)\n",
      "        if cost == 0:\n",
      "            sys.stderr.write('[Warn] %s does not exist in tarif\\n' % i)\n",
      "        total_cost = total_cost + cost\n",
      "    \n",
      "    return total_cost"
     ],
     "language": "python",
     "metadata": {},
     "outputs": [],
     "prompt_number": 2
    },
    {
     "cell_type": "code",
     "collapsed": false,
     "input": [
      "def calc_schatz_total_cost(checkin_time='12:00:00', checkout_time=None, tarif={}, order_list=[]):\n",
      "    \"\"\" \u652f\u6255\u984d\u8a08\u7b97\u3002\u8a2d\u5b9a\u3057\u305f\u9000\u9928\u6642\u523b\u3082\u3057\u304f\u306f\u73fe\u6642\u70b9\u306e\u652f\u6255\u984d\u3068\u9589\u9928\u307e\u3067\u3044\u305f\u5834\u5408\u306e\u652f\u6255\u984d\u3092\u8fd4\u3059\"\"\"\n",
      "    today=datetime.now().strftime(\"%Y-%m-%d\")\n",
      "    \n",
      "    if len(checkin_time.split(':')) == 2:\n",
      "        checkin_time = checkin_time + ':00'\n",
      "        \n",
      "    start_time='%s %s' % (today, checkin_time)\n",
      "    \n",
      "    if checkout_time is None:\n",
      "        end_time=datetime.now().strftime(\"%Y-%m-%d %H:%M:%S\")\n",
      "    elif len(checkout_time.split(':')) == 2:\n",
      "        checkout_time = checkout_time + ':00'\n",
      "        end_time='%s %s' % (today, checkout_time)\n",
      "    else:\n",
      "        end_time='%s %s' % (today, checkout_time)\n",
      "\n",
      "    charge = calc_schatz_charge(start_time, end_time)\n",
      "    dishes_cost = calc_dishes_cost(tarif, order_list)\n",
      "\n",
      "    total_cost = charge + dishes_cost\n",
      "    payment = total_cost * TAX_RATE\n",
      "    close_at = '22:00:00'\n",
      "    last_time = '%s %s' % (today, close_at)\n",
      "\n",
      "    total_cost_max = calc_schatz_charge(start_time, last_time) + dishes_cost\n",
      "\n",
      "    payment_max = total_cost_max * TAX_RATE\n",
      "\n",
      "    return charge, dishes_cost, payment, payment_max"
     ],
     "language": "python",
     "metadata": {},
     "outputs": [],
     "prompt_number": 3
    },
    {
     "cell_type": "heading",
     "level": 2,
     "metadata": {},
     "source": [
      "\u30bf\u30ea\u30d5\u5b9a\u7fa9"
     ]
    },
    {
     "cell_type": "code",
     "collapsed": false,
     "input": [
      "#  \u6d88\u8cbb\u7a0e\u7387\n",
      "global TAX_RATE\n",
      "TAX_RATE = 1.08\n",
      "\n",
      "# \u500b\u5225\u6ce8\u6587\u30e1\u30cb\u30e5\u30fc\u306e\u4fa1\u683c\u3092\u5b9a\u7fa9\n",
      "tarif = {u'\u30b9\u30fc\u30d7':500,u'\u30d1\u30f3\u30d7\u30ea\u30f3':300, u'\u304a\u304b\u3057':300}\n",
      "sp_menu_tarif = {u'\u6c34\u3088\u3046\u304b\u3093':400,u'\u590f\u91ce\u83dc\u30ab\u30ec\u30fc':800,u'\u30ec\u30e2\u30cd\u30fc\u30c9':300}\n",
      "tarif.update(sp_menu_tarif)"
     ],
     "language": "python",
     "metadata": {},
     "outputs": [],
     "prompt_number": 4
    },
    {
     "cell_type": "heading",
     "level": 2,
     "metadata": {},
     "source": [
      "\u5b9f\u884c\u3057\u3066\u307f\u308b"
     ]
    },
    {
     "cell_type": "code",
     "collapsed": false,
     "input": [
      "checkin_time='12:55:00'\n",
      "checkout_time='17:55:00'\n",
      "\n",
      "order_list=[u'\u6c34\u3088\u3046\u304b\u3093', u'\u590f\u91ce\u83dc\u30ab\u30ec\u30fc', u'\u30ec\u30e2\u30cd\u30fc\u30c9',u'\u30b9\u30fc\u30d7',u'\u30d1\u30f3\u30d7\u30ea\u30f3']\n",
      "\n",
      "# Default: checkin_time = '12:00:00' and checkout_time = now in '%H:%M:%S'\n",
      "charge, dishes_cost, payment, payment_max = calc_schatz_total_cost()\n",
      "\n",
      "print 'Charge: %s, Dishes: %s, Payment: %s, Max Estimate: %s\\n' % (charge, dishes_cost, int(payment), int(payment_max))\n",
      "charge, dishes_cost, payment, payment_max = calc_schatz_total_cost(\n",
      "                                                            checkout_time=checkout_time,\n",
      "                                                            tarif=tarif,\n",
      "                                                            order_list=order_list)\n",
      "print 'Charge: %s, Dishes: %s, Payment: %s, Max Estimate: %s\\n' % (charge, dishes_cost, int(payment), int(payment_max))"
     ],
     "language": "python",
     "metadata": {},
     "outputs": [
      {
       "output_type": "stream",
       "stream": "stdout",
       "text": [
        "Charge: -1500, Dishes: 0, Payment: -1620, Max Estimate: 10800\n",
        "\n",
        "Charge: 6000, Dishes: 2300, Payment: 8964, Max Estimate: 13284\n",
        "\n"
       ]
      },
      {
       "output_type": "stream",
       "stream": "stderr",
       "text": [
        "[Warn] end_time is earlier than start_time.\n",
        "             start_time: 2014-07-20 12:00:00 end_time: 2014-07-20 10:25:24\n"
       ]
      }
     ],
     "prompt_number": 5
    },
    {
     "cell_type": "heading",
     "level": 2,
     "metadata": {},
     "source": [
      "\u753b\u9762\u304b\u3089\u306e\u5165\u529b"
     ]
    },
    {
     "cell_type": "heading",
     "level": 3,
     "metadata": {},
     "source": [
      "\u753b\u9762\u304b\u3089\u306e\u5165\u529b\u3092\u53d7\u3051\u4ed8\u3051\u308b\u95a2\u6570"
     ]
    },
    {
     "cell_type": "code",
     "collapsed": false,
     "input": [
      "# \u3010\u53c2\u8003\u3011https://plus.google.com/115875830338788300419/posts/cJFqX2Rpvzn\n",
      "import IPython.core.display\n",
      "\n",
      "def ipynb_input(varname, prompt='', default=''):\n",
      "    \"\"\"Prompt user for input and assign string val to given variable name.\"\"\"\n",
      "    js_code = (\"\"\"\n",
      "        var value = prompt(\"{prompt}\",\"{default}\");\n",
      "        var py_code = \"{varname} = '\" + value + \"'\";\n",
      "        IPython.notebook.kernel.execute(py_code);\n",
      "    \"\"\").format(prompt=prompt, varname=varname, default=default)\n",
      "    return IPython.core.display.Javascript(js_code)"
     ],
     "language": "python",
     "metadata": {},
     "outputs": [],
     "prompt_number": 6
    },
    {
     "cell_type": "heading",
     "level": 3,
     "metadata": {},
     "source": [
      "\u30c7\u30fc\u30bf\u5165\u529b\u304c\u306a\u3044\u5834\u5408\u306f\u30c7\u30d5\u30a9\u30eb\u30c8\u5024\u3092\u5165\u529b"
     ]
    },
    {
     "cell_type": "code",
     "collapsed": false,
     "input": [
      "if 'chekin_time' not in globals():\n",
      "    checkin_time= '12:00' \n",
      "if 'order_text' not in globals():\n",
      "    order_text = ''"
     ],
     "language": "python",
     "metadata": {},
     "outputs": [],
     "prompt_number": 7
    },
    {
     "cell_type": "heading",
     "level": 3,
     "metadata": {},
     "source": [
      "\u8868\u793a\u7528\u95a2\u6570"
     ]
    },
    {
     "cell_type": "code",
     "collapsed": false,
     "input": [
      "from collections import Counter\n",
      "\n",
      "def print_order(order_list):\n",
      "    \"\"\" \u30aa\u30fc\u30c0\u30fc\u3057\u305f\u3082\u306e\u3068\u500b\u6570\u3001\u5c0f\u8a08\u3092\u51fa\u529b \"\"\"\n",
      "    counter = Counter(order_list)\n",
      "    print '\u30aa\u30fc\u30c0\u30fc:'\n",
      "    for menu, cnt in counter.most_common():\n",
      "        price = tarif.get(menu,0)\n",
      "        print '\\t%s: %s\u500b = %s\u5186' % (menu.encode('utf-8'), cnt, price * cnt)"
     ],
     "language": "python",
     "metadata": {},
     "outputs": [],
     "prompt_number": 18
    },
    {
     "cell_type": "heading",
     "level": 3,
     "metadata": {},
     "source": [
      "\u30d7\u30ed\u30c3\u30c8\u7528\u95a2\u6570"
     ]
    },
    {
     "cell_type": "code",
     "collapsed": false,
     "input": [
      "# http://bicycle1885.hatenablog.com/entry/2014/02/14/023734\n",
      "# http://matplotlib.org/gallery.html\n",
      "# http://symfoware.blog68.fc2.com/blog-entry-1417.html\n",
      "def calc_max_range(checkin_time, close_time='22:00'):\n",
      "    today=datetime.now().strftime(\"%Y-%m-%d\")\n",
      "    \n",
      "    if len(checkin_time.split(':')) == 2:\n",
      "        checkin_time = checkin_time + ':00'\n",
      "        \n",
      "    start_time='%s %s' % (today, checkin_time)\n",
      "    \n",
      "    if len(close_time.split(':')) == 2:\n",
      "        close_time = close_time + ':00'\n",
      "        end_time='%s %s' % (today, close_time)\n",
      "    else:\n",
      "        end_time='%s %s' % (today, close_time)\n",
      "\n",
      "    duration = calc_time_delta(start_time, end_time)\n",
      "    range = (duration / 60 /30) + 1\n",
      "    \n",
      "    return range\n",
      "\n",
      "from datetime import timedelta\n",
      "def mkdate(checkin_time, i):\n",
      "    today=datetime.now().strftime(\"%Y-%m-%d\")\n",
      "    if len(checkin_time.split(':')) == 2:\n",
      "        checkin_time = checkin_time + ':00'\n",
      "        \n",
      "    start_time='%s %s' % (today, checkin_time)\n",
      "    t_start_time = datetime.strptime(start_time, \"%Y-%m-%d %H:%M:%S\")\n",
      "    delta = timedelta(seconds=i*60*30)\n",
      "    \n",
      "    t_label_time = t_start_time + delta\n",
      "    label_time = datetime.strftime(t_label_time, \"%H:%M:%S\")\n",
      "    return label_time\n",
      "\n",
      "def plot_schatz_cost(charge, dishes_cost, payment, payment_max):\n",
      "    max_range = calc_max_range(checkin_time)\n",
      "    x_range = range(max_range)\n",
      "    x_labels = [ mkdate(checkin_time, i) for i in x_range]\n",
      "    cost_y = [ (i * 500 + dishes_cost) * TAX_RATE for i in x_range]\n",
      "\n",
      "    plot(x_range,cost_y)\n",
      "    xticks(x_range, x_labels, rotation='vertical')\n",
      "\n",
      "    x_point = charge / 500\n",
      "    from matplotlib.font_manager import FontProperties\n",
      "    fp = FontProperties(fname='/System/Library/Fonts/\u30d2\u30e9\u30ae\u30ce\u89d2\u30b4 ProN W3.otf')\n",
      "    annotate(\n",
      "            u'\u30e1\u30cb\u30e5\u30fc\u30aa\u30fc\u30c0\u30fc\u5206: %s\u5186' % dishes_cost,\n",
      "            xy=(0, dishes_cost), arrowprops=dict(arrowstyle='->'), xytext=(3, 500),fontproperties=fp)\n",
      "    annotate(\n",
      "            u'\u73fe\u6642\u70b9\u306e\u304a\u4f1a\u8a08: %.0f\u5186 (in TAX)'%(payment),\n",
      "            xy=(x_point, payment), arrowprops=dict(arrowstyle='->'), xytext=(5, 2000),fontproperties=fp)\n",
      "    l = plt.axhline(y=payment,linewidth=1, color='r')"
     ],
     "language": "python",
     "metadata": {},
     "outputs": [],
     "prompt_number": 19
    },
    {
     "cell_type": "heading",
     "level": 3,
     "metadata": {},
     "source": [
      "\u30d7\u30ed\u30f3\u30d7\u30c8"
     ]
    },
    {
     "cell_type": "code",
     "collapsed": false,
     "input": [
      "ipynb_input(varname='checkin_time', prompt='\u5165\u9928\u6642\u523b\u3092\u5165\u529b\u3057\u3066\u304f\u3060\u3055\u3044\u3002\u4f8b: 12:15', default=checkin_time)"
     ],
     "language": "python",
     "metadata": {},
     "outputs": [
      {
       "javascript": [
        "\n",
        "        var value = prompt(\"\u5165\u9928\u6642\u523b\u3092\u5165\u529b\u3057\u3066\u304f\u3060\u3055\u3044\u3002\u4f8b: 12:15\",\"12:00\");\n",
        "        var py_code = \"checkin_time = '\" + value + \"'\";\n",
        "        IPython.notebook.kernel.execute(py_code);\n",
        "    "
       ],
       "metadata": {},
       "output_type": "pyout",
       "prompt_number": 28,
       "text": [
        "<IPython.core.display.Javascript at 0x10984ec10>"
       ]
      }
     ],
     "prompt_number": 28
    },
    {
     "cell_type": "code",
     "collapsed": false,
     "input": [
      "# \u73fe\u5728\u6642\u523b\u3092\u53d6\u5f97\n",
      "checkout_time=datetime.now().strftime(\"%H:%M\")"
     ],
     "language": "python",
     "metadata": {},
     "outputs": [],
     "prompt_number": 34
    },
    {
     "cell_type": "code",
     "collapsed": false,
     "input": [
      "ipynb_input(varname='checkout_time', prompt='\u9000\u9928\u6642\u523b\u3092\u5165\u529b\u3057\u3066\u304f\u3060\u3055\u3044\u3002\u4f8b: 21:15', default=checkout_time)"
     ],
     "language": "python",
     "metadata": {},
     "outputs": [
      {
       "javascript": [
        "\n",
        "        var value = prompt(\"\u9000\u9928\u6642\u523b\u3092\u5165\u529b\u3057\u3066\u304f\u3060\u3055\u3044\u3002\u4f8b: 21:15\",\"10:25\");\n",
        "        var py_code = \"checkout_time = '\" + value + \"'\";\n",
        "        IPython.notebook.kernel.execute(py_code);\n",
        "    "
       ],
       "metadata": {},
       "output_type": "pyout",
       "prompt_number": 17,
       "text": [
        "<IPython.core.display.Javascript at 0x10982c290>"
       ]
      }
     ],
     "prompt_number": 17
    },
    {
     "cell_type": "code",
     "collapsed": false,
     "input": [
      "ipynb_input(varname='order_text',\n",
      "                        prompt='\u6ce8\u6587\u3057\u305f\u3082\u306e\u3092\u30ab\u30f3\u30de\u533a\u5207\u308a\u3067\u5165\u529b\u3057\u3066\u304f\u3060\u3055\u3044\u3002\u540c\u3058\u3082\u306e\u3092\u8907\u6570\u56de\u6ce8\u6587\u3057\u305f\u5834\u5408\u306f\u3001\u305d\u306e\u6570\u3060\u3051\u5165\u529b\u3057\u3066\u304f\u3060\u3055\u3044\u3002\\\\n'\n",
      "                        '\u4f8b\uff1a\u590f\u91ce\u83dc\u30ab\u30ec\u30fc,\u30d1\u30f3\u30d7\u30ea\u30f3',\n",
      "                        default=order_text\n",
      "                    )"
     ],
     "language": "python",
     "metadata": {},
     "outputs": [
      {
       "javascript": [
        "\n",
        "        var value = prompt(\"\u6ce8\u6587\u3057\u305f\u3082\u306e\u3092\u30ab\u30f3\u30de\u533a\u5207\u308a\u3067\u5165\u529b\u3057\u3066\u304f\u3060\u3055\u3044\u3002\u540c\u3058\u3082\u306e\u3092\u8907\u6570\u56de\u6ce8\u6587\u3057\u305f\u5834\u5408\u306f\u3001\u305d\u306e\u6570\u3060\u3051\u5165\u529b\u3057\u3066\u304f\u3060\u3055\u3044\u3002\\n\u4f8b\uff1a\u590f\u91ce\u83dc\u30ab\u30ec\u30fc,\u30d1\u30f3\u30d7\u30ea\u30f3\",\"\u590f\u91ce\u83dc\u30ab\u30ec\u30fc\");\n",
        "        var py_code = \"order_text = '\" + value + \"'\";\n",
        "        IPython.notebook.kernel.execute(py_code);\n",
        "    "
       ],
       "metadata": {},
       "output_type": "pyout",
       "prompt_number": 39,
       "text": [
        "<IPython.core.display.Javascript at 0x1098ccc10>"
       ]
      }
     ],
     "prompt_number": 39
    },
    {
     "cell_type": "heading",
     "level": 2,
     "metadata": {},
     "source": [
      "\u7d50\u679c\u51fa\u529b"
     ]
    },
    {
     "cell_type": "heading",
     "level": 3,
     "metadata": {},
     "source": [
      "\u304a\u4f1a\u8a08"
     ]
    },
    {
     "cell_type": "code",
     "collapsed": false,
     "input": [
      "# \u5165\u529b\u3055\u308c\u305f\u6ce8\u6587\u3092\u30ea\u30b9\u30c8\u306b\u5909\u63db\n",
      "u_order_text = order_text.decode('utf-8')\n",
      "u_order_text = u_order_text.replace(' ','')\n",
      "order_list = u_order_text.split(',')\n",
      "\n",
      "# \u73fe\u5728\u6642\u523b\u3092\u53d6\u5f97\n",
      "checkout_time=datetime.now().strftime(\"%H:%M\")\n",
      "# \u8a08\u7b97\u7d50\u679c\u53d6\u5f97\n",
      "charge, dishes_cost, payment, payment_max = calc_schatz_total_cost(checkin_time, checkout_time, tarif=tarif, order_list=order_list)\n",
      "#charge, dishes_cost, payment, payment_max = calc_schatz_total_cost(checkin_time, tarif=tarif, order_list=order_list)\n",
      "\n",
      "# \u7d50\u679c\u51fa\u529b\n",
      "print 'Checkin Time: %s' % checkin_time\n",
      "print 'Checkout Time: %s\\n' % checkout_time\n",
      "\n",
      "print '\u6ede\u5728\u6642\u9593: %s\u5206, \u5e2d\u6599: %s\u5186' % ((charge / 500)*30, charge)\n",
      "print_order(order_list)\n",
      "\n",
      "print ''\n",
      "print '\u73fe\u6642\u70b9\u306e\u304a\u4f1a\u8a08: %.0f\u5186 (in TAX)'%(payment)\n",
      "print '\u3053\u306e\u307e\u307e\u9589\u9928\u307e\u3067\u3044\u305f\u5834\u5408\u306e\u304a\u4f1a\u8a08: %.0f\u5186 (in TAX)'%(payment_max)\n",
      "\n",
      "freehand = False\n",
      "#freehand = True\n",
      "if freehand:\n",
      "    with xkcd():\n",
      "        plot_schatz_cost(charge, dishes_cost, payment, payment_max)\n",
      "else:\n",
      "    plot_schatz_cost(charge, dishes_cost, payment, payment_max)\n",
      "\n"
     ],
     "language": "python",
     "metadata": {},
     "outputs": [
      {
       "output_type": "stream",
       "stream": "stdout",
       "text": [
        "Checkin Time: 12:05\n",
        "Checkout Time: 12:19\n",
        "\n",
        "\u6ede\u5728\u6642\u9593: 30\u5206, \u5e2d\u6599: 500\u5186\n",
        "\u30aa\u30fc\u30c0\u30fc:\n",
        "\t\u590f\u91ce\u83dc\u30ab\u30ec\u30fc: 1\u500b = 800\u5186\n",
        "\n",
        "\u73fe\u6642\u70b9\u306e\u304a\u4f1a\u8a08: 1404\u5186 (in TAX)\n",
        "\u3053\u306e\u307e\u307e\u9589\u9928\u307e\u3067\u3044\u305f\u5834\u5408\u306e\u304a\u4f1a\u8a08: 11664\u5186 (in TAX)\n"
       ]
      },
      {
       "metadata": {},
       "output_type": "display_data",
       "png": "[encoded data removed]",
       "text": [
        "<matplotlib.figure.Figure at 0x10990f9d0>"
       ]
      }
     ],
     "prompt_number": 40
    },
    {
     "cell_type": "code",
     "collapsed": false,
     "input": [],
     "language": "python",
     "metadata": {},
     "outputs": [
      {
       "metadata": {},
       "output_type": "pyout",
       "prompt_number": 617,
       "text": [
        "<matplotlib.rc_context at 0x113a37c50>"
       ]
      }
     ],
     "prompt_number": 617
    },
    {
     "cell_type": "code",
     "collapsed": false,
     "input": [],
     "language": "python",
     "metadata": {},
     "outputs": []
    }
   ],
   "metadata": {}
  }
 ]
}